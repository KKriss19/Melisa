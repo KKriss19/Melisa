{
 "cells": [
  {
   "cell_type": "markdown",
   "id": "32a80680-e887-47fa-b9bc-1bc15fb4b21e",
   "metadata": {},
   "source": [
    "# Data Science Tools and Ecosystem"
   ]
  },
  {
   "cell_type": "markdown",
   "id": "b34c2a5e-985c-4353-a004-8902f2589e84",
   "metadata": {},
   "source": [
    "*In this notebook, Data Science Tools and Ecosystem are summarized.*"
   ]
  },
  {
   "cell_type": "markdown",
   "id": "df24be25-019d-447d-a6e9-07ee2ed727fe",
   "metadata": {},
   "source": [
    "**Objectives:**\n",
    "- List popular languages for Data Science\n",
    "- List popular Libraries for Data Science\n",
    "- Popular tools for Data Science\n",
    "- Solving arithmetic expressions in Python"
   ]
  },
  {
   "cell_type": "markdown",
   "id": "cc7a4f17-175b-41dd-b9af-a04dc7634fe8",
   "metadata": {},
   "source": [
    "**Some of the popular languages that Data Scientists use are:**"
   ]
  },
  {
   "cell_type": "markdown",
   "id": "a903f347-4e93-4d78-a5f9-5ea0e63fa328",
   "metadata": {},
   "source": [
    "1. Python\n",
    "2. R\n",
    "3. Java\n",
    "4. C/ C++\n",
    "5. Julia\n",
    "6. SQL\n",
    "7. Scala"
   ]
  },
  {
   "cell_type": "markdown",
   "id": "5ea46cb3-4ca1-46e7-a6b4-2058f5e3ff0c",
   "metadata": {},
   "source": [
    "**Some of the commonly used libraries used by Data Scientists include:**"
   ]
  },
  {
   "cell_type": "markdown",
   "id": "c16e1adc-5ee6-4e2a-9ed4-2ce9aa1fa568",
   "metadata": {},
   "source": [
    "- Pandas\n",
    "- NumPy\n",
    "- TensorFlow\n",
    "- Matplotlib"
   ]
  },
  {
   "cell_type": "markdown",
   "id": "5d9bfff1-cca0-47b8-91a6-efa52cfa9f7c",
   "metadata": {},
   "source": [
    "| Data Science Tools |\n",
    "| ---- |\n",
    "| Jupyter |\n",
    "| RStudio |\n",
    "| Cassandra |\n",
    "| MySQL |\n"
   ]
  },
  {
   "cell_type": "markdown",
   "id": "6f346d49-3562-40ff-ab2c-cef0acb54c1b",
   "metadata": {},
   "source": [
    "### Below are a few examples of evaluating arithmetic expressions in Python"
   ]
  },
  {
   "cell_type": "code",
   "execution_count": 7,
   "id": "51a7fc2e-af39-4a3a-8cf2-e1e0e6aef718",
   "metadata": {},
   "outputs": [
    {
     "data": {
      "text/plain": [
       "273.5"
      ]
     },
     "execution_count": 7,
     "metadata": {},
     "output_type": "execute_result"
    }
   ],
   "source": [
    "# Addition operation\n",
    "181+92.5"
   ]
  },
  {
   "cell_type": "code",
   "execution_count": 8,
   "id": "fef40665-cf0f-429a-a164-4de9dde2a5f1",
   "metadata": {},
   "outputs": [
    {
     "data": {
      "text/plain": [
       "448"
      ]
     },
     "execution_count": 8,
     "metadata": {},
     "output_type": "execute_result"
    }
   ],
   "source": [
    "# Substraction operation\n",
    "1012-564"
   ]
  },
  {
   "cell_type": "code",
   "execution_count": 9,
   "id": "590e008b-7ce9-489b-b9c9-064e53fd2cfd",
   "metadata": {},
   "outputs": [
    {
     "data": {
      "text/plain": [
       "84"
      ]
     },
     "execution_count": 9,
     "metadata": {},
     "output_type": "execute_result"
    }
   ],
   "source": [
    "# Multiplication operation\n",
    "12*7"
   ]
  },
  {
   "cell_type": "markdown",
   "id": "2f7a2d81-6436-4f58-b904-22462174b1cb",
   "metadata": {},
   "source": [
    "***This a simple arithmetic expression to mutiply then add integers***"
   ]
  },
  {
   "cell_type": "code",
   "execution_count": 13,
   "id": "73e00f0d-c8b9-47ee-bd2d-b686950b8920",
   "metadata": {},
   "outputs": [
    {
     "data": {
      "text/plain": [
       "17"
      ]
     },
     "execution_count": 13,
     "metadata": {},
     "output_type": "execute_result"
    }
   ],
   "source": [
    "(3*4)+5"
   ]
  },
  {
   "cell_type": "markdown",
   "id": "73511c6c-baef-4028-b22e-6bf78749bc4d",
   "metadata": {},
   "source": [
    "***This will convert 200 minutes to hours by diving by 60***"
   ]
  },
  {
   "cell_type": "code",
   "execution_count": 8,
   "id": "394404e8-35bf-48e9-b4b0-d631b6c14c98",
   "metadata": {},
   "outputs": [
    {
     "name": "stdout",
     "output_type": "stream",
     "text": [
      "3 hours 20 minutes\n"
     ]
    }
   ],
   "source": [
    "hours = 200 // 60  \n",
    "remaining_minutes = 200 % 60  \n",
    "print(f\"{hours} hours {remaining_minutes} minutes\")\n"
   ]
  },
  {
   "cell_type": "markdown",
   "id": "25b40bfc-bc44-4dd6-92d0-0eeb477ba3f8",
   "metadata": {},
   "source": [
    "## Author\n",
    "Kristina Kovtunenko"
   ]
  },
  {
   "cell_type": "code",
   "execution_count": null,
   "id": "1a7c8e21-2757-4c80-9cfe-82bc20b70421",
   "metadata": {},
   "outputs": [],
   "source": []
  }
 ],
 "metadata": {
  "kernelspec": {
   "display_name": "Python 3 (ipykernel)",
   "language": "python",
   "name": "python3"
  },
  "language_info": {
   "codemirror_mode": {
    "name": "ipython",
    "version": 3
   },
   "file_extension": ".py",
   "mimetype": "text/x-python",
   "name": "python",
   "nbconvert_exporter": "python",
   "pygments_lexer": "ipython3",
   "version": "3.12.8"
  }
 },
 "nbformat": 4,
 "nbformat_minor": 5
}
